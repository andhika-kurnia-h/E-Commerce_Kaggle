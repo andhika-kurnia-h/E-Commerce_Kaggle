{
 "cells": [
  {
   "cell_type": "markdown",
   "metadata": {},
   "source": [
    "##  Customer Segmentation with Recency, Frequency and Monetary Analysis\n",
    "\n"
   ]
  },
  {
   "cell_type": "code",
   "execution_count": 226,
   "metadata": {},
   "outputs": [],
   "source": [
    "# Import Library\n",
    "import pandas as pd\n",
    "from sklearn.cluster import KMeans\n",
    "from sklearn.metrics import silhouette_score\n",
    "import seaborn as sns\n",
    "import numpy as np\n",
    "import matplotlib.pyplot as plt"
   ]
  },
  {
   "cell_type": "code",
   "execution_count": 227,
   "metadata": {},
   "outputs": [
    {
     "data": {
      "text/html": [
       "<div>\n",
       "<style scoped>\n",
       "    .dataframe tbody tr th:only-of-type {\n",
       "        vertical-align: middle;\n",
       "    }\n",
       "\n",
       "    .dataframe tbody tr th {\n",
       "        vertical-align: top;\n",
       "    }\n",
       "\n",
       "    .dataframe thead th {\n",
       "        text-align: right;\n",
       "    }\n",
       "</style>\n",
       "<table border=\"1\" class=\"dataframe\">\n",
       "  <thead>\n",
       "    <tr style=\"text-align: right;\">\n",
       "      <th></th>\n",
       "      <th>InvoiceNo</th>\n",
       "      <th>StockCode</th>\n",
       "      <th>Description</th>\n",
       "      <th>Quantity</th>\n",
       "      <th>InvoiceDate</th>\n",
       "      <th>UnitPrice</th>\n",
       "      <th>CustomerID</th>\n",
       "      <th>Country</th>\n",
       "    </tr>\n",
       "  </thead>\n",
       "  <tbody>\n",
       "    <tr>\n",
       "      <td>0</td>\n",
       "      <td>536365</td>\n",
       "      <td>85123A</td>\n",
       "      <td>WHITE HANGING HEART T-LIGHT HOLDER</td>\n",
       "      <td>6</td>\n",
       "      <td>12/1/2019 8:26</td>\n",
       "      <td>2.55</td>\n",
       "      <td>17850.0</td>\n",
       "      <td>United Kingdom</td>\n",
       "    </tr>\n",
       "    <tr>\n",
       "      <td>1</td>\n",
       "      <td>536365</td>\n",
       "      <td>71053</td>\n",
       "      <td>WHITE METAL LANTERN</td>\n",
       "      <td>6</td>\n",
       "      <td>12/1/2019 8:26</td>\n",
       "      <td>3.39</td>\n",
       "      <td>17850.0</td>\n",
       "      <td>United Kingdom</td>\n",
       "    </tr>\n",
       "    <tr>\n",
       "      <td>2</td>\n",
       "      <td>536365</td>\n",
       "      <td>84406B</td>\n",
       "      <td>CREAM CUPID HEARTS COAT HANGER</td>\n",
       "      <td>8</td>\n",
       "      <td>12/1/2019 8:26</td>\n",
       "      <td>2.75</td>\n",
       "      <td>17850.0</td>\n",
       "      <td>United Kingdom</td>\n",
       "    </tr>\n",
       "    <tr>\n",
       "      <td>3</td>\n",
       "      <td>536365</td>\n",
       "      <td>84029G</td>\n",
       "      <td>KNITTED UNION FLAG HOT WATER BOTTLE</td>\n",
       "      <td>6</td>\n",
       "      <td>12/1/2019 8:26</td>\n",
       "      <td>3.39</td>\n",
       "      <td>17850.0</td>\n",
       "      <td>United Kingdom</td>\n",
       "    </tr>\n",
       "    <tr>\n",
       "      <td>4</td>\n",
       "      <td>536365</td>\n",
       "      <td>84029E</td>\n",
       "      <td>RED WOOLLY HOTTIE WHITE HEART.</td>\n",
       "      <td>6</td>\n",
       "      <td>12/1/2019 8:26</td>\n",
       "      <td>3.39</td>\n",
       "      <td>17850.0</td>\n",
       "      <td>United Kingdom</td>\n",
       "    </tr>\n",
       "  </tbody>\n",
       "</table>\n",
       "</div>"
      ],
      "text/plain": [
       "  InvoiceNo StockCode                          Description  Quantity  \\\n",
       "0    536365    85123A   WHITE HANGING HEART T-LIGHT HOLDER         6   \n",
       "1    536365     71053                  WHITE METAL LANTERN         6   \n",
       "2    536365    84406B       CREAM CUPID HEARTS COAT HANGER         8   \n",
       "3    536365    84029G  KNITTED UNION FLAG HOT WATER BOTTLE         6   \n",
       "4    536365    84029E       RED WOOLLY HOTTIE WHITE HEART.         6   \n",
       "\n",
       "      InvoiceDate  UnitPrice  CustomerID         Country  \n",
       "0  12/1/2019 8:26       2.55     17850.0  United Kingdom  \n",
       "1  12/1/2019 8:26       3.39     17850.0  United Kingdom  \n",
       "2  12/1/2019 8:26       2.75     17850.0  United Kingdom  \n",
       "3  12/1/2019 8:26       3.39     17850.0  United Kingdom  \n",
       "4  12/1/2019 8:26       3.39     17850.0  United Kingdom  "
      ]
     },
     "execution_count": 227,
     "metadata": {},
     "output_type": "execute_result"
    }
   ],
   "source": [
    "# Import Dataset\n",
    "data = pd.read_csv(\"data.csv\", encoding= 'unicode_escape')\n",
    "data.head()"
   ]
  },
  {
   "cell_type": "code",
   "execution_count": 228,
   "metadata": {},
   "outputs": [],
   "source": [
    "# Remove Country\n",
    "data = data.drop(['Country'], axis=1)"
   ]
  },
  {
   "cell_type": "markdown",
   "metadata": {},
   "source": [
    "### Convert InvoiceDate into datetime type"
   ]
  },
  {
   "cell_type": "code",
   "execution_count": 229,
   "metadata": {},
   "outputs": [],
   "source": [
    "# Split InvoiceDate into InvoiceDate_ and TimeHour\n",
    "# data[['InvoiceDate_','TimeHour']]=data.InvoiceDate.str.split(\" \", expand=True)\n",
    "\n",
    "# Convert InvoiceDate into datetime type\n",
    "data['InvoiceDate']=pd.to_datetime(data_clean['InvoiceDate'], format='%m/%d/%Y %H:%M')\n",
    "\n",
    "# Add Year Month\n",
    "data['InvoiceYearMonth']=data['InvoiceDate'].dt.strftime('%Y %m')\n",
    "\n",
    "# Add Date\n",
    "data['InvoiceDate_']=data['InvoiceDate'].dt.strftime('%Y-%m-%d')"
   ]
  },
  {
   "cell_type": "code",
   "execution_count": 230,
   "metadata": {},
   "outputs": [
    {
     "data": {
      "text/html": [
       "<div>\n",
       "<style scoped>\n",
       "    .dataframe tbody tr th:only-of-type {\n",
       "        vertical-align: middle;\n",
       "    }\n",
       "\n",
       "    .dataframe tbody tr th {\n",
       "        vertical-align: top;\n",
       "    }\n",
       "\n",
       "    .dataframe thead th {\n",
       "        text-align: right;\n",
       "    }\n",
       "</style>\n",
       "<table border=\"1\" class=\"dataframe\">\n",
       "  <thead>\n",
       "    <tr style=\"text-align: right;\">\n",
       "      <th></th>\n",
       "      <th>InvoiceNo</th>\n",
       "      <th>StockCode</th>\n",
       "      <th>Description</th>\n",
       "      <th>Quantity</th>\n",
       "      <th>InvoiceDate</th>\n",
       "      <th>UnitPrice</th>\n",
       "      <th>CustomerID</th>\n",
       "      <th>InvoiceYearMonth</th>\n",
       "      <th>InvoiceDate_</th>\n",
       "    </tr>\n",
       "  </thead>\n",
       "  <tbody>\n",
       "    <tr>\n",
       "      <td>0</td>\n",
       "      <td>536365</td>\n",
       "      <td>85123A</td>\n",
       "      <td>WHITE HANGING HEART T-LIGHT HOLDER</td>\n",
       "      <td>6</td>\n",
       "      <td>NaT</td>\n",
       "      <td>2.55</td>\n",
       "      <td>17850.0</td>\n",
       "      <td>NaT</td>\n",
       "      <td>NaT</td>\n",
       "    </tr>\n",
       "    <tr>\n",
       "      <td>1</td>\n",
       "      <td>536365</td>\n",
       "      <td>71053</td>\n",
       "      <td>WHITE METAL LANTERN</td>\n",
       "      <td>6</td>\n",
       "      <td>2019-12-01 08:26:00</td>\n",
       "      <td>3.39</td>\n",
       "      <td>17850.0</td>\n",
       "      <td>2019 12</td>\n",
       "      <td>2019-12-01</td>\n",
       "    </tr>\n",
       "    <tr>\n",
       "      <td>2</td>\n",
       "      <td>536365</td>\n",
       "      <td>84406B</td>\n",
       "      <td>CREAM CUPID HEARTS COAT HANGER</td>\n",
       "      <td>8</td>\n",
       "      <td>NaT</td>\n",
       "      <td>2.75</td>\n",
       "      <td>17850.0</td>\n",
       "      <td>NaT</td>\n",
       "      <td>NaT</td>\n",
       "    </tr>\n",
       "    <tr>\n",
       "      <td>3</td>\n",
       "      <td>536365</td>\n",
       "      <td>84029G</td>\n",
       "      <td>KNITTED UNION FLAG HOT WATER BOTTLE</td>\n",
       "      <td>6</td>\n",
       "      <td>NaT</td>\n",
       "      <td>3.39</td>\n",
       "      <td>17850.0</td>\n",
       "      <td>NaT</td>\n",
       "      <td>NaT</td>\n",
       "    </tr>\n",
       "    <tr>\n",
       "      <td>4</td>\n",
       "      <td>536365</td>\n",
       "      <td>84029E</td>\n",
       "      <td>RED WOOLLY HOTTIE WHITE HEART.</td>\n",
       "      <td>6</td>\n",
       "      <td>NaT</td>\n",
       "      <td>3.39</td>\n",
       "      <td>17850.0</td>\n",
       "      <td>NaT</td>\n",
       "      <td>NaT</td>\n",
       "    </tr>\n",
       "  </tbody>\n",
       "</table>\n",
       "</div>"
      ],
      "text/plain": [
       "  InvoiceNo StockCode                          Description  Quantity  \\\n",
       "0    536365    85123A   WHITE HANGING HEART T-LIGHT HOLDER         6   \n",
       "1    536365     71053                  WHITE METAL LANTERN         6   \n",
       "2    536365    84406B       CREAM CUPID HEARTS COAT HANGER         8   \n",
       "3    536365    84029G  KNITTED UNION FLAG HOT WATER BOTTLE         6   \n",
       "4    536365    84029E       RED WOOLLY HOTTIE WHITE HEART.         6   \n",
       "\n",
       "          InvoiceDate  UnitPrice  CustomerID InvoiceYearMonth InvoiceDate_  \n",
       "0                 NaT       2.55     17850.0              NaT          NaT  \n",
       "1 2019-12-01 08:26:00       3.39     17850.0          2019 12   2019-12-01  \n",
       "2                 NaT       2.75     17850.0              NaT          NaT  \n",
       "3                 NaT       3.39     17850.0              NaT          NaT  \n",
       "4                 NaT       3.39     17850.0              NaT          NaT  "
      ]
     },
     "execution_count": 230,
     "metadata": {},
     "output_type": "execute_result"
    }
   ],
   "source": [
    "data.head()"
   ]
  },
  {
   "cell_type": "markdown",
   "metadata": {},
   "source": [
    "Recency: How long has it been since the customer last purchased from you (e.g. in days, in months)?<br>\n",
    "Frequency: How many times has the customer purchased from you within a fixed period (e.g. past 3 months, past year)<br>\n",
    "Monetary Value: How much has the customer spent at your store within a fixed period (which should be the same period set for Frequency)."
   ]
  },
  {
   "cell_type": "markdown",
   "metadata": {},
   "source": [
    "### Data Cleaning<br>\n",
    "Since both datasets contained the same features, I appended one to the other. Following this, I dropped rows that had:\n",
    "<li>Missing Description</li>\n",
    "<li>Missing Customer ID</li>\n",
    "<li>Abnormal Stock Codes that did not conform to the expected format, such as Stock Codes that started with letters, and had less than 5 digits. These tended to be from manual entries (Stock Code ‘M’), postage costs (Stock Code ‘DOT’) and cancelled orders (Stock Codes starting with ‘C’). However, I retained Stock Codes that ended with letters, as these tended to indicate product variations (e.g. pattern, color).</li>"
   ]
  },
  {
   "cell_type": "code",
   "execution_count": 231,
   "metadata": {},
   "outputs": [
    {
     "name": "stdout",
     "output_type": "stream",
     "text": [
      "<class 'pandas.core.frame.DataFrame'>\n",
      "RangeIndex: 541909 entries, 0 to 541908\n",
      "Data columns (total 9 columns):\n",
      "InvoiceNo           541909 non-null object\n",
      "StockCode           541909 non-null object\n",
      "Description         540455 non-null object\n",
      "Quantity            541909 non-null int64\n",
      "InvoiceDate         363119 non-null datetime64[ns]\n",
      "UnitPrice           541909 non-null float64\n",
      "CustomerID          406829 non-null float64\n",
      "InvoiceYearMonth    541909 non-null object\n",
      "InvoiceDate_        541909 non-null object\n",
      "dtypes: datetime64[ns](1), float64(2), int64(1), object(5)\n",
      "memory usage: 37.2+ MB\n"
     ]
    }
   ],
   "source": [
    "data.info()"
   ]
  },
  {
   "cell_type": "code",
   "execution_count": 232,
   "metadata": {
    "scrolled": true
   },
   "outputs": [
    {
     "name": "stdout",
     "output_type": "stream",
     "text": [
      "<class 'pandas.core.frame.DataFrame'>\n",
      "Int64Index: 406829 entries, 0 to 541908\n",
      "Data columns (total 9 columns):\n",
      "InvoiceNo           406829 non-null object\n",
      "StockCode           406829 non-null object\n",
      "Description         406829 non-null object\n",
      "Quantity            406829 non-null int64\n",
      "InvoiceDate         363119 non-null datetime64[ns]\n",
      "UnitPrice           406829 non-null float64\n",
      "CustomerID          406829 non-null float64\n",
      "InvoiceYearMonth    406829 non-null object\n",
      "InvoiceDate_        406829 non-null object\n",
      "dtypes: datetime64[ns](1), float64(2), int64(1), object(5)\n",
      "memory usage: 31.0+ MB\n"
     ]
    }
   ],
   "source": [
    "# Missing Description and Missing Customer ID\n",
    "data_clean = data.dropna(subset=['Description'])\n",
    "data_clean = data_clean.dropna(subset=['CustomerID'])\n",
    "data_clean.info()"
   ]
  },
  {
   "cell_type": "code",
   "execution_count": 233,
   "metadata": {},
   "outputs": [
    {
     "name": "stdout",
     "output_type": "stream",
     "text": [
      "<class 'pandas.core.frame.DataFrame'>\n",
      "Int64Index: 371020 entries, 1 to 541908\n",
      "Data columns (total 9 columns):\n",
      "InvoiceNo           371020 non-null object\n",
      "StockCode           371020 non-null object\n",
      "Description         371020 non-null object\n",
      "Quantity            371020 non-null int64\n",
      "InvoiceDate         363119 non-null datetime64[ns]\n",
      "UnitPrice           371020 non-null float64\n",
      "CustomerID          371020 non-null float64\n",
      "InvoiceYearMonth    371020 non-null object\n",
      "InvoiceDate_        371020 non-null object\n",
      "dtypes: datetime64[ns](1), float64(2), int64(1), object(5)\n",
      "memory usage: 28.3+ MB\n"
     ]
    }
   ],
   "source": [
    "# Remove Abnormal Stock Codes\n",
    "data_clean['Stock_Alphabet'] = data_clean['StockCode'].str.contains(r'^\\d+$', na=False)\n",
    "data_clean = data_clean[(data_clean.Stock_Alphabet == True)]\n",
    "data_clean = data_clean.drop(['Stock_Alphabet'], axis=1)\n",
    "data_clean.info()"
   ]
  },
  {
   "cell_type": "code",
   "execution_count": 234,
   "metadata": {},
   "outputs": [
    {
     "name": "stdout",
     "output_type": "stream",
     "text": [
      "<class 'pandas.core.frame.DataFrame'>\n",
      "Int64Index: 363119 entries, 1 to 541908\n",
      "Data columns (total 9 columns):\n",
      "InvoiceNo           363119 non-null object\n",
      "StockCode           363119 non-null object\n",
      "Description         363119 non-null object\n",
      "Quantity            363119 non-null int64\n",
      "InvoiceDate         363119 non-null datetime64[ns]\n",
      "UnitPrice           363119 non-null float64\n",
      "CustomerID          363119 non-null float64\n",
      "InvoiceYearMonth    363119 non-null object\n",
      "InvoiceDate_        363119 non-null object\n",
      "dtypes: datetime64[ns](1), float64(2), int64(1), object(5)\n",
      "memory usage: 27.7+ MB\n"
     ]
    }
   ],
   "source": [
    "# Remove Abnormal Invoice No\n",
    "data_clean['Invoice_Alphabet'] = data_clean['InvoiceNo'].str.contains(r'^\\d+$', na=False)\n",
    "data_clean = data_clean[(data_clean.Invoice_Alphabet == True)]\n",
    "data_clean = data_clean.drop(['Invoice_Alphabet'], axis=1)\n",
    "data_clean.info()"
   ]
  },
  {
   "cell_type": "code",
   "execution_count": 235,
   "metadata": {},
   "outputs": [
    {
     "data": {
      "text/html": [
       "<div>\n",
       "<style scoped>\n",
       "    .dataframe tbody tr th:only-of-type {\n",
       "        vertical-align: middle;\n",
       "    }\n",
       "\n",
       "    .dataframe tbody tr th {\n",
       "        vertical-align: top;\n",
       "    }\n",
       "\n",
       "    .dataframe thead th {\n",
       "        text-align: right;\n",
       "    }\n",
       "</style>\n",
       "<table border=\"1\" class=\"dataframe\">\n",
       "  <thead>\n",
       "    <tr style=\"text-align: right;\">\n",
       "      <th></th>\n",
       "      <th>InvoiceNo</th>\n",
       "      <th>StockCode</th>\n",
       "      <th>Description</th>\n",
       "      <th>Quantity</th>\n",
       "      <th>InvoiceDate</th>\n",
       "      <th>UnitPrice</th>\n",
       "      <th>CustomerID</th>\n",
       "      <th>InvoiceYearMonth</th>\n",
       "      <th>InvoiceDate_</th>\n",
       "      <th>TotalPrice</th>\n",
       "    </tr>\n",
       "  </thead>\n",
       "  <tbody>\n",
       "    <tr>\n",
       "      <td>1</td>\n",
       "      <td>536365</td>\n",
       "      <td>71053</td>\n",
       "      <td>WHITE METAL LANTERN</td>\n",
       "      <td>6</td>\n",
       "      <td>2019-12-01 08:26:00</td>\n",
       "      <td>3.39</td>\n",
       "      <td>17850.0</td>\n",
       "      <td>2019 12</td>\n",
       "      <td>2019-12-01</td>\n",
       "      <td>20.34</td>\n",
       "    </tr>\n",
       "    <tr>\n",
       "      <td>5</td>\n",
       "      <td>536365</td>\n",
       "      <td>22752</td>\n",
       "      <td>SET 7 BABUSHKA NESTING BOXES</td>\n",
       "      <td>2</td>\n",
       "      <td>2019-12-01 08:26:00</td>\n",
       "      <td>7.65</td>\n",
       "      <td>17850.0</td>\n",
       "      <td>2019 12</td>\n",
       "      <td>2019-12-01</td>\n",
       "      <td>15.30</td>\n",
       "    </tr>\n",
       "    <tr>\n",
       "      <td>6</td>\n",
       "      <td>536365</td>\n",
       "      <td>21730</td>\n",
       "      <td>GLASS STAR FROSTED T-LIGHT HOLDER</td>\n",
       "      <td>6</td>\n",
       "      <td>2019-12-01 08:26:00</td>\n",
       "      <td>4.25</td>\n",
       "      <td>17850.0</td>\n",
       "      <td>2019 12</td>\n",
       "      <td>2019-12-01</td>\n",
       "      <td>25.50</td>\n",
       "    </tr>\n",
       "    <tr>\n",
       "      <td>7</td>\n",
       "      <td>536366</td>\n",
       "      <td>22633</td>\n",
       "      <td>HAND WARMER UNION JACK</td>\n",
       "      <td>6</td>\n",
       "      <td>2019-12-01 08:28:00</td>\n",
       "      <td>1.85</td>\n",
       "      <td>17850.0</td>\n",
       "      <td>2019 12</td>\n",
       "      <td>2019-12-01</td>\n",
       "      <td>11.10</td>\n",
       "    </tr>\n",
       "    <tr>\n",
       "      <td>8</td>\n",
       "      <td>536366</td>\n",
       "      <td>22632</td>\n",
       "      <td>HAND WARMER RED POLKA DOT</td>\n",
       "      <td>6</td>\n",
       "      <td>2019-12-01 08:28:00</td>\n",
       "      <td>1.85</td>\n",
       "      <td>17850.0</td>\n",
       "      <td>2019 12</td>\n",
       "      <td>2019-12-01</td>\n",
       "      <td>11.10</td>\n",
       "    </tr>\n",
       "  </tbody>\n",
       "</table>\n",
       "</div>"
      ],
      "text/plain": [
       "  InvoiceNo StockCode                        Description  Quantity  \\\n",
       "1    536365     71053                WHITE METAL LANTERN         6   \n",
       "5    536365     22752       SET 7 BABUSHKA NESTING BOXES         2   \n",
       "6    536365     21730  GLASS STAR FROSTED T-LIGHT HOLDER         6   \n",
       "7    536366     22633             HAND WARMER UNION JACK         6   \n",
       "8    536366     22632          HAND WARMER RED POLKA DOT         6   \n",
       "\n",
       "          InvoiceDate  UnitPrice  CustomerID InvoiceYearMonth InvoiceDate_  \\\n",
       "1 2019-12-01 08:26:00       3.39     17850.0          2019 12   2019-12-01   \n",
       "5 2019-12-01 08:26:00       7.65     17850.0          2019 12   2019-12-01   \n",
       "6 2019-12-01 08:26:00       4.25     17850.0          2019 12   2019-12-01   \n",
       "7 2019-12-01 08:28:00       1.85     17850.0          2019 12   2019-12-01   \n",
       "8 2019-12-01 08:28:00       1.85     17850.0          2019 12   2019-12-01   \n",
       "\n",
       "   TotalPrice  \n",
       "1       20.34  \n",
       "5       15.30  \n",
       "6       25.50  \n",
       "7       11.10  \n",
       "8       11.10  "
      ]
     },
     "execution_count": 235,
     "metadata": {},
     "output_type": "execute_result"
    }
   ],
   "source": [
    "data_clean['TotalPrice'] = data_clean['UnitPrice']*data_clean['Quantity']\n",
    "data_clean.head()"
   ]
  },
  {
   "cell_type": "code",
   "execution_count": 236,
   "metadata": {},
   "outputs": [],
   "source": [
    "# Check InvoiceYearMonth for NaT values\n",
    "# data_clean['InvoiceYearMonth'].to_csv('InvoiceYearMonth.csv')"
   ]
  },
  {
   "cell_type": "markdown",
   "metadata": {},
   "source": [
    "## Pre-defined data\n",
    "\n",
    "1. Total Sales\n",
    "2. Total Transaction\n",
    "2. Total Customer\n",
    "3. Growth of New Customer"
   ]
  },
  {
   "cell_type": "code",
   "execution_count": 237,
   "metadata": {},
   "outputs": [
    {
     "data": {
      "text/plain": [
       "[Text(0, 0, '2019 12'),\n",
       " Text(0, 0, '2020 01'),\n",
       " Text(0, 0, '2020 02'),\n",
       " Text(0, 0, '2020 03'),\n",
       " Text(0, 0, '2020 04'),\n",
       " Text(0, 0, '2020 05'),\n",
       " Text(0, 0, '2020 06'),\n",
       " Text(0, 0, '2020 07'),\n",
       " Text(0, 0, '2020 08'),\n",
       " Text(0, 0, '2020 09'),\n",
       " Text(0, 0, '2020 10'),\n",
       " Text(0, 0, '2020 11'),\n",
       " Text(0, 0, '2020 12')]"
      ]
     },
     "execution_count": 237,
     "metadata": {},
     "output_type": "execute_result"
    },
    {
     "data": {
      "image/png": "[encoded data removed]",
      "text/plain": [
       "<Figure size 432x288 with 1 Axes>"
      ]
     },
     "metadata": {
      "needs_background": "light"
     },
     "output_type": "display_data"
    }
   ],
   "source": [
    "# Total Sales - TSL\n",
    "TSL = data_clean[['InvoiceYearMonth','TotalPrice']].groupby(['InvoiceYearMonth'], as_index=False).sum()\n",
    "labelsTSL = TSL['InvoiceYearMonth'].values\n",
    "ChartTSL = sns.lineplot(data=TSL, x='InvoiceYearMonth', y='TotalPrice')\n",
    "ChartTSL.set_xticklabels(labelsTSL,rotation=30)"
   ]
  },
  {
   "cell_type": "code",
   "execution_count": 238,
   "metadata": {},
   "outputs": [
    {
     "data": {
      "text/plain": [
       "[Text(0, 0, '2019 12'),\n",
       " Text(0, 0, '2020 01'),\n",
       " Text(0, 0, '2020 02'),\n",
       " Text(0, 0, '2020 03'),\n",
       " Text(0, 0, '2020 04'),\n",
       " Text(0, 0, '2020 05'),\n",
       " Text(0, 0, '2020 06'),\n",
       " Text(0, 0, '2020 07'),\n",
       " Text(0, 0, '2020 08'),\n",
       " Text(0, 0, '2020 09'),\n",
       " Text(0, 0, '2020 10'),\n",
       " Text(0, 0, '2020 11'),\n",
       " Text(0, 0, '2020 12')]"
      ]
     },
     "execution_count": 238,
     "metadata": {},
     "output_type": "execute_result"
    },
    {
     "data": {
      "image/png": "[encoded data removed]",
      "text/plain": [
       "<Figure size 432x288 with 1 Axes>"
      ]
     },
     "metadata": {
      "needs_background": "light"
     },
     "output_type": "display_data"
    }
   ],
   "source": [
    "# Total Transaction - TTS\n",
    "TTS = data_clean[['InvoiceYearMonth','InvoiceNo']].groupby(['InvoiceYearMonth'], as_index=False).count()\n",
    "labelsTTS = TTS['InvoiceYearMonth'].values\n",
    "ChartTTS = sns.lineplot(data=TTS, x='InvoiceYearMonth', y='InvoiceNo')\n",
    "ChartTTS.set_xticklabels(labelsTTS,rotation=30)"
   ]
  },
  {
   "cell_type": "code",
   "execution_count": 239,
   "metadata": {},
   "outputs": [
    {
     "data": {
      "text/plain": [
       "[Text(0, 0, '2019 12'),\n",
       " Text(0, 0, '2020 01'),\n",
       " Text(0, 0, '2020 02'),\n",
       " Text(0, 0, '2020 03'),\n",
       " Text(0, 0, '2020 04'),\n",
       " Text(0, 0, '2020 05'),\n",
       " Text(0, 0, '2020 06'),\n",
       " Text(0, 0, '2020 07'),\n",
       " Text(0, 0, '2020 08'),\n",
       " Text(0, 0, '2020 09'),\n",
       " Text(0, 0, '2020 10'),\n",
       " Text(0, 0, '2020 11'),\n",
       " Text(0, 0, '2020 12')]"
      ]
     },
     "execution_count": 239,
     "metadata": {},
     "output_type": "execute_result"
    },
    {
     "data": {
      "image/png": "[encoded data removed]",
      "text/plain": [
       "<Figure size 432x288 with 1 Axes>"
      ]
     },
     "metadata": {
      "needs_background": "light"
     },
     "output_type": "display_data"
    }
   ],
   "source": [
    "# Total Customer - TCS\n",
    "TCS = data_clean[['InvoiceYearMonth','CustomerID']].groupby(['InvoiceYearMonth'],as_index=False).count()\n",
    "labelsTCS = TCS['InvoiceYearMonth'].values\n",
    "ChartTCS = sns.lineplot(data=TCS, x='InvoiceYearMonth', y='CustomerID')\n",
    "ChartTCS.set_xticklabels(labelsTCS,rotation=30)"
   ]
  },
  {
   "cell_type": "code",
   "execution_count": 240,
   "metadata": {},
   "outputs": [
    {
     "data": {
      "text/html": [
       "<div>\n",
       "<style scoped>\n",
       "    .dataframe tbody tr th:only-of-type {\n",
       "        vertical-align: middle;\n",
       "    }\n",
       "\n",
       "    .dataframe tbody tr th {\n",
       "        vertical-align: top;\n",
       "    }\n",
       "\n",
       "    .dataframe thead th {\n",
       "        text-align: right;\n",
       "    }\n",
       "</style>\n",
       "<table border=\"1\" class=\"dataframe\">\n",
       "  <thead>\n",
       "    <tr style=\"text-align: right;\">\n",
       "      <th></th>\n",
       "      <th>InvoiceYearMonth</th>\n",
       "      <th>TotalPrice</th>\n",
       "      <th>InvoiceYearMonth</th>\n",
       "      <th>InvoiceNo</th>\n",
       "      <th>InvoiceYearMonth</th>\n",
       "      <th>CustomerID</th>\n",
       "    </tr>\n",
       "  </thead>\n",
       "  <tbody>\n",
       "    <tr>\n",
       "      <td>0</td>\n",
       "      <td>2019 12</td>\n",
       "      <td>504309.40</td>\n",
       "      <td>2019 12</td>\n",
       "      <td>23106</td>\n",
       "      <td>2019 12</td>\n",
       "      <td>23106</td>\n",
       "    </tr>\n",
       "    <tr>\n",
       "      <td>1</td>\n",
       "      <td>2020 01</td>\n",
       "      <td>497482.21</td>\n",
       "      <td>2020 01</td>\n",
       "      <td>18946</td>\n",
       "      <td>2020 01</td>\n",
       "      <td>18946</td>\n",
       "    </tr>\n",
       "    <tr>\n",
       "      <td>2</td>\n",
       "      <td>2020 02</td>\n",
       "      <td>396318.22</td>\n",
       "      <td>2020 02</td>\n",
       "      <td>17882</td>\n",
       "      <td>2020 02</td>\n",
       "      <td>17882</td>\n",
       "    </tr>\n",
       "    <tr>\n",
       "      <td>3</td>\n",
       "      <td>2020 03</td>\n",
       "      <td>526068.40</td>\n",
       "      <td>2020 03</td>\n",
       "      <td>24347</td>\n",
       "      <td>2020 03</td>\n",
       "      <td>24347</td>\n",
       "    </tr>\n",
       "    <tr>\n",
       "      <td>4</td>\n",
       "      <td>2020 04</td>\n",
       "      <td>405226.48</td>\n",
       "      <td>2020 04</td>\n",
       "      <td>20331</td>\n",
       "      <td>2020 04</td>\n",
       "      <td>20331</td>\n",
       "    </tr>\n",
       "    <tr>\n",
       "      <td>5</td>\n",
       "      <td>2020 05</td>\n",
       "      <td>599736.66</td>\n",
       "      <td>2020 05</td>\n",
       "      <td>25846</td>\n",
       "      <td>2020 05</td>\n",
       "      <td>25846</td>\n",
       "    </tr>\n",
       "    <tr>\n",
       "      <td>6</td>\n",
       "      <td>2020 06</td>\n",
       "      <td>603411.25</td>\n",
       "      <td>2020 06</td>\n",
       "      <td>24795</td>\n",
       "      <td>2020 06</td>\n",
       "      <td>24795</td>\n",
       "    </tr>\n",
       "    <tr>\n",
       "      <td>7</td>\n",
       "      <td>2020 07</td>\n",
       "      <td>531686.30</td>\n",
       "      <td>2020 07</td>\n",
       "      <td>24309</td>\n",
       "      <td>2020 07</td>\n",
       "      <td>24309</td>\n",
       "    </tr>\n",
       "    <tr>\n",
       "      <td>8</td>\n",
       "      <td>2020 08</td>\n",
       "      <td>580852.33</td>\n",
       "      <td>2020 08</td>\n",
       "      <td>24682</td>\n",
       "      <td>2020 08</td>\n",
       "      <td>24682</td>\n",
       "    </tr>\n",
       "    <tr>\n",
       "      <td>9</td>\n",
       "      <td>2020 09</td>\n",
       "      <td>878833.62</td>\n",
       "      <td>2020 09</td>\n",
       "      <td>36945</td>\n",
       "      <td>2020 09</td>\n",
       "      <td>36945</td>\n",
       "    </tr>\n",
       "    <tr>\n",
       "      <td>10</td>\n",
       "      <td>2020 10</td>\n",
       "      <td>939738.89</td>\n",
       "      <td>2020 10</td>\n",
       "      <td>45893</td>\n",
       "      <td>2020 10</td>\n",
       "      <td>45893</td>\n",
       "    </tr>\n",
       "    <tr>\n",
       "      <td>11</td>\n",
       "      <td>2020 11</td>\n",
       "      <td>1057634.25</td>\n",
       "      <td>2020 11</td>\n",
       "      <td>59925</td>\n",
       "      <td>2020 11</td>\n",
       "      <td>59925</td>\n",
       "    </tr>\n",
       "    <tr>\n",
       "      <td>12</td>\n",
       "      <td>2020 12</td>\n",
       "      <td>494051.53</td>\n",
       "      <td>2020 12</td>\n",
       "      <td>16112</td>\n",
       "      <td>2020 12</td>\n",
       "      <td>16112</td>\n",
       "    </tr>\n",
       "  </tbody>\n",
       "</table>\n",
       "</div>"
      ],
      "text/plain": [
       "   InvoiceYearMonth  TotalPrice InvoiceYearMonth  InvoiceNo InvoiceYearMonth  \\\n",
       "0           2019 12   504309.40          2019 12      23106          2019 12   \n",
       "1           2020 01   497482.21          2020 01      18946          2020 01   \n",
       "2           2020 02   396318.22          2020 02      17882          2020 02   \n",
       "3           2020 03   526068.40          2020 03      24347          2020 03   \n",
       "4           2020 04   405226.48          2020 04      20331          2020 04   \n",
       "5           2020 05   599736.66          2020 05      25846          2020 05   \n",
       "6           2020 06   603411.25          2020 06      24795          2020 06   \n",
       "7           2020 07   531686.30          2020 07      24309          2020 07   \n",
       "8           2020 08   580852.33          2020 08      24682          2020 08   \n",
       "9           2020 09   878833.62          2020 09      36945          2020 09   \n",
       "10          2020 10   939738.89          2020 10      45893          2020 10   \n",
       "11          2020 11  1057634.25          2020 11      59925          2020 11   \n",
       "12          2020 12   494051.53          2020 12      16112          2020 12   \n",
       "\n",
       "    CustomerID  \n",
       "0        23106  \n",
       "1        18946  \n",
       "2        17882  \n",
       "3        24347  \n",
       "4        20331  \n",
       "5        25846  \n",
       "6        24795  \n",
       "7        24309  \n",
       "8        24682  \n",
       "9        36945  \n",
       "10       45893  \n",
       "11       59925  \n",
       "12       16112  "
      ]
     },
     "execution_count": 240,
     "metadata": {},
     "output_type": "execute_result"
    }
   ],
   "source": [
    "# Check data clean\n",
    "# data_clean.to_csv('data_clean.csv')\n",
    "result = pd.concat([TSL,TTS,TCS], axis=1)\n",
    "result"
   ]
  },
  {
   "cell_type": "markdown",
   "metadata": {},
   "source": [
    "### Feature Engineering"
   ]
  },
  {
   "cell_type": "code",
   "execution_count": 241,
   "metadata": {},
   "outputs": [
    {
     "data": {
      "text/html": [
       "<div>\n",
       "<style scoped>\n",
       "    .dataframe tbody tr th:only-of-type {\n",
       "        vertical-align: middle;\n",
       "    }\n",
       "\n",
       "    .dataframe tbody tr th {\n",
       "        vertical-align: top;\n",
       "    }\n",
       "\n",
       "    .dataframe thead th {\n",
       "        text-align: right;\n",
       "    }\n",
       "</style>\n",
       "<table border=\"1\" class=\"dataframe\">\n",
       "  <thead>\n",
       "    <tr style=\"text-align: right;\">\n",
       "      <th></th>\n",
       "      <th>InvoiceNo</th>\n",
       "      <th>StockCode</th>\n",
       "      <th>Description</th>\n",
       "      <th>Quantity</th>\n",
       "      <th>InvoiceDate</th>\n",
       "      <th>UnitPrice</th>\n",
       "      <th>CustomerID</th>\n",
       "      <th>InvoiceYearMonth</th>\n",
       "      <th>InvoiceDate_</th>\n",
       "      <th>TotalPrice</th>\n",
       "    </tr>\n",
       "  </thead>\n",
       "  <tbody>\n",
       "    <tr>\n",
       "      <td>1</td>\n",
       "      <td>536365</td>\n",
       "      <td>71053</td>\n",
       "      <td>WHITE METAL LANTERN</td>\n",
       "      <td>6</td>\n",
       "      <td>2019-12-01 08:26:00</td>\n",
       "      <td>3.39</td>\n",
       "      <td>17850.0</td>\n",
       "      <td>2019 12</td>\n",
       "      <td>2019-12-01</td>\n",
       "      <td>20.34</td>\n",
       "    </tr>\n",
       "    <tr>\n",
       "      <td>5</td>\n",
       "      <td>536365</td>\n",
       "      <td>22752</td>\n",
       "      <td>SET 7 BABUSHKA NESTING BOXES</td>\n",
       "      <td>2</td>\n",
       "      <td>2019-12-01 08:26:00</td>\n",
       "      <td>7.65</td>\n",
       "      <td>17850.0</td>\n",
       "      <td>2019 12</td>\n",
       "      <td>2019-12-01</td>\n",
       "      <td>15.30</td>\n",
       "    </tr>\n",
       "    <tr>\n",
       "      <td>6</td>\n",
       "      <td>536365</td>\n",
       "      <td>21730</td>\n",
       "      <td>GLASS STAR FROSTED T-LIGHT HOLDER</td>\n",
       "      <td>6</td>\n",
       "      <td>2019-12-01 08:26:00</td>\n",
       "      <td>4.25</td>\n",
       "      <td>17850.0</td>\n",
       "      <td>2019 12</td>\n",
       "      <td>2019-12-01</td>\n",
       "      <td>25.50</td>\n",
       "    </tr>\n",
       "    <tr>\n",
       "      <td>7</td>\n",
       "      <td>536366</td>\n",
       "      <td>22633</td>\n",
       "      <td>HAND WARMER UNION JACK</td>\n",
       "      <td>6</td>\n",
       "      <td>2019-12-01 08:28:00</td>\n",
       "      <td>1.85</td>\n",
       "      <td>17850.0</td>\n",
       "      <td>2019 12</td>\n",
       "      <td>2019-12-01</td>\n",
       "      <td>11.10</td>\n",
       "    </tr>\n",
       "    <tr>\n",
       "      <td>8</td>\n",
       "      <td>536366</td>\n",
       "      <td>22632</td>\n",
       "      <td>HAND WARMER RED POLKA DOT</td>\n",
       "      <td>6</td>\n",
       "      <td>2019-12-01 08:28:00</td>\n",
       "      <td>1.85</td>\n",
       "      <td>17850.0</td>\n",
       "      <td>2019 12</td>\n",
       "      <td>2019-12-01</td>\n",
       "      <td>11.10</td>\n",
       "    </tr>\n",
       "  </tbody>\n",
       "</table>\n",
       "</div>"
      ],
      "text/plain": [
       "  InvoiceNo StockCode                        Description  Quantity  \\\n",
       "1    536365     71053                WHITE METAL LANTERN         6   \n",
       "5    536365     22752       SET 7 BABUSHKA NESTING BOXES         2   \n",
       "6    536365     21730  GLASS STAR FROSTED T-LIGHT HOLDER         6   \n",
       "7    536366     22633             HAND WARMER UNION JACK         6   \n",
       "8    536366     22632          HAND WARMER RED POLKA DOT         6   \n",
       "\n",
       "          InvoiceDate  UnitPrice  CustomerID InvoiceYearMonth InvoiceDate_  \\\n",
       "1 2019-12-01 08:26:00       3.39     17850.0          2019 12   2019-12-01   \n",
       "5 2019-12-01 08:26:00       7.65     17850.0          2019 12   2019-12-01   \n",
       "6 2019-12-01 08:26:00       4.25     17850.0          2019 12   2019-12-01   \n",
       "7 2019-12-01 08:28:00       1.85     17850.0          2019 12   2019-12-01   \n",
       "8 2019-12-01 08:28:00       1.85     17850.0          2019 12   2019-12-01   \n",
       "\n",
       "   TotalPrice  \n",
       "1       20.34  \n",
       "5       15.30  \n",
       "6       25.50  \n",
       "7       11.10  \n",
       "8       11.10  "
      ]
     },
     "execution_count": 241,
     "metadata": {},
     "output_type": "execute_result"
    }
   ],
   "source": [
    "data_clean.head()"
   ]
  },
  {
   "cell_type": "code",
   "execution_count": 256,
   "metadata": {
    "scrolled": true
   },
   "outputs": [
    {
     "data": {
      "text/html": [
       "<div>\n",
       "<style scoped>\n",
       "    .dataframe tbody tr th:only-of-type {\n",
       "        vertical-align: middle;\n",
       "    }\n",
       "\n",
       "    .dataframe tbody tr th {\n",
       "        vertical-align: top;\n",
       "    }\n",
       "\n",
       "    .dataframe thead th {\n",
       "        text-align: right;\n",
       "    }\n",
       "</style>\n",
       "<table border=\"1\" class=\"dataframe\">\n",
       "  <thead>\n",
       "    <tr style=\"text-align: right;\">\n",
       "      <th></th>\n",
       "      <th>CustomerID</th>\n",
       "      <th>InvoiceDate_</th>\n",
       "    </tr>\n",
       "  </thead>\n",
       "  <tbody>\n",
       "    <tr>\n",
       "      <td>1</td>\n",
       "      <td>17850.0</td>\n",
       "      <td>2019-12-01</td>\n",
       "    </tr>\n",
       "    <tr>\n",
       "      <td>9</td>\n",
       "      <td>13047.0</td>\n",
       "      <td>2019-12-01</td>\n",
       "    </tr>\n",
       "    <tr>\n",
       "      <td>26</td>\n",
       "      <td>12583.0</td>\n",
       "      <td>2019-12-01</td>\n",
       "    </tr>\n",
       "    <tr>\n",
       "      <td>46</td>\n",
       "      <td>13748.0</td>\n",
       "      <td>2019-12-01</td>\n",
       "    </tr>\n",
       "    <tr>\n",
       "      <td>65</td>\n",
       "      <td>15100.0</td>\n",
       "      <td>2019-12-01</td>\n",
       "    </tr>\n",
       "    <tr>\n",
       "      <td>...</td>\n",
       "      <td>...</td>\n",
       "      <td>...</td>\n",
       "    </tr>\n",
       "    <tr>\n",
       "      <td>541836</td>\n",
       "      <td>12748.0</td>\n",
       "      <td>2020-12-09</td>\n",
       "    </tr>\n",
       "    <tr>\n",
       "      <td>541865</td>\n",
       "      <td>13777.0</td>\n",
       "      <td>2020-12-09</td>\n",
       "    </tr>\n",
       "    <tr>\n",
       "      <td>541869</td>\n",
       "      <td>15804.0</td>\n",
       "      <td>2020-12-09</td>\n",
       "    </tr>\n",
       "    <tr>\n",
       "      <td>541890</td>\n",
       "      <td>13113.0</td>\n",
       "      <td>2020-12-09</td>\n",
       "    </tr>\n",
       "    <tr>\n",
       "      <td>541894</td>\n",
       "      <td>12680.0</td>\n",
       "      <td>2020-12-09</td>\n",
       "    </tr>\n",
       "  </tbody>\n",
       "</table>\n",
       "<p>16561 rows × 2 columns</p>\n",
       "</div>"
      ],
      "text/plain": [
       "        CustomerID InvoiceDate_\n",
       "1          17850.0   2019-12-01\n",
       "9          13047.0   2019-12-01\n",
       "26         12583.0   2019-12-01\n",
       "46         13748.0   2019-12-01\n",
       "65         15100.0   2019-12-01\n",
       "...            ...          ...\n",
       "541836     12748.0   2020-12-09\n",
       "541865     13777.0   2020-12-09\n",
       "541869     15804.0   2020-12-09\n",
       "541890     13113.0   2020-12-09\n",
       "541894     12680.0   2020-12-09\n",
       "\n",
       "[16561 rows x 2 columns]"
      ]
     },
     "execution_count": 256,
     "metadata": {},
     "output_type": "execute_result"
    }
   ],
   "source": [
    "Recency = data_clean[['CustomerID','InvoiceDate_']].drop_duplicates()\n",
    "Recency"
   ]
  },
  {
   "cell_type": "code",
   "execution_count": 259,
   "metadata": {},
   "outputs": [],
   "source": [
    "Recency[Recency['CustomerID']==12748].to_csv('Recency_12748.csv')"
   ]
  },
  {
   "cell_type": "code",
   "execution_count": 243,
   "metadata": {
    "scrolled": false
   },
   "outputs": [
    {
     "data": {
      "text/html": [
       "<div>\n",
       "<style scoped>\n",
       "    .dataframe tbody tr th:only-of-type {\n",
       "        vertical-align: middle;\n",
       "    }\n",
       "\n",
       "    .dataframe tbody tr th {\n",
       "        vertical-align: top;\n",
       "    }\n",
       "\n",
       "    .dataframe thead th {\n",
       "        text-align: right;\n",
       "    }\n",
       "</style>\n",
       "<table border=\"1\" class=\"dataframe\">\n",
       "  <thead>\n",
       "    <tr style=\"text-align: right;\">\n",
       "      <th></th>\n",
       "      <th>CustomerID</th>\n",
       "      <th>InvoiceNo</th>\n",
       "    </tr>\n",
       "  </thead>\n",
       "  <tbody>\n",
       "    <tr>\n",
       "      <td>0</td>\n",
       "      <td>12346.0</td>\n",
       "      <td>1</td>\n",
       "    </tr>\n",
       "    <tr>\n",
       "      <td>1</td>\n",
       "      <td>12347.0</td>\n",
       "      <td>7</td>\n",
       "    </tr>\n",
       "    <tr>\n",
       "      <td>2</td>\n",
       "      <td>12348.0</td>\n",
       "      <td>4</td>\n",
       "    </tr>\n",
       "    <tr>\n",
       "      <td>3</td>\n",
       "      <td>12349.0</td>\n",
       "      <td>1</td>\n",
       "    </tr>\n",
       "    <tr>\n",
       "      <td>4</td>\n",
       "      <td>12350.0</td>\n",
       "      <td>1</td>\n",
       "    </tr>\n",
       "  </tbody>\n",
       "</table>\n",
       "</div>"
      ],
      "text/plain": [
       "   CustomerID  InvoiceNo\n",
       "0     12346.0          1\n",
       "1     12347.0          7\n",
       "2     12348.0          4\n",
       "3     12349.0          1\n",
       "4     12350.0          1"
      ]
     },
     "execution_count": 243,
     "metadata": {},
     "output_type": "execute_result"
    }
   ],
   "source": [
    "Frequency = data_clean[['CustomerID','InvoiceNo']].drop_duplicates().groupby(['CustomerID'],as_index=False)['InvoiceNo'].count()\n",
    "Frequency.head()"
   ]
  },
  {
   "cell_type": "code",
   "execution_count": 244,
   "metadata": {},
   "outputs": [
    {
     "data": {
      "text/html": [
       "<div>\n",
       "<style scoped>\n",
       "    .dataframe tbody tr th:only-of-type {\n",
       "        vertical-align: middle;\n",
       "    }\n",
       "\n",
       "    .dataframe tbody tr th {\n",
       "        vertical-align: top;\n",
       "    }\n",
       "\n",
       "    .dataframe thead th {\n",
       "        text-align: right;\n",
       "    }\n",
       "</style>\n",
       "<table border=\"1\" class=\"dataframe\">\n",
       "  <thead>\n",
       "    <tr style=\"text-align: right;\">\n",
       "      <th></th>\n",
       "      <th>CustomerID</th>\n",
       "      <th>TotalPrice</th>\n",
       "    </tr>\n",
       "  </thead>\n",
       "  <tbody>\n",
       "    <tr>\n",
       "      <td>0</td>\n",
       "      <td>12346.0</td>\n",
       "      <td>77183.60</td>\n",
       "    </tr>\n",
       "    <tr>\n",
       "      <td>1</td>\n",
       "      <td>12347.0</td>\n",
       "      <td>3653.45</td>\n",
       "    </tr>\n",
       "    <tr>\n",
       "      <td>2</td>\n",
       "      <td>12348.0</td>\n",
       "      <td>1437.24</td>\n",
       "    </tr>\n",
       "    <tr>\n",
       "      <td>3</td>\n",
       "      <td>12349.0</td>\n",
       "      <td>1372.42</td>\n",
       "    </tr>\n",
       "    <tr>\n",
       "      <td>4</td>\n",
       "      <td>12350.0</td>\n",
       "      <td>258.00</td>\n",
       "    </tr>\n",
       "  </tbody>\n",
       "</table>\n",
       "</div>"
      ],
      "text/plain": [
       "   CustomerID  TotalPrice\n",
       "0     12346.0    77183.60\n",
       "1     12347.0     3653.45\n",
       "2     12348.0     1437.24\n",
       "3     12349.0     1372.42\n",
       "4     12350.0      258.00"
      ]
     },
     "execution_count": 244,
     "metadata": {},
     "output_type": "execute_result"
    }
   ],
   "source": [
    "Monetary_Value = data_clean.groupby(['CustomerID'],as_index=False)['TotalPrice'].sum()\n",
    "Monetary_Value.head()"
   ]
  },
  {
   "cell_type": "code",
   "execution_count": 200,
   "metadata": {},
   "outputs": [
    {
     "data": {
      "text/html": [
       "<div>\n",
       "<style scoped>\n",
       "    .dataframe tbody tr th:only-of-type {\n",
       "        vertical-align: middle;\n",
       "    }\n",
       "\n",
       "    .dataframe tbody tr th {\n",
       "        vertical-align: top;\n",
       "    }\n",
       "\n",
       "    .dataframe thead th {\n",
       "        text-align: right;\n",
       "    }\n",
       "</style>\n",
       "<table border=\"1\" class=\"dataframe\">\n",
       "  <thead>\n",
       "    <tr style=\"text-align: right;\">\n",
       "      <th></th>\n",
       "      <th>Recency</th>\n",
       "      <th>Frequency</th>\n",
       "      <th>Monetary_Value</th>\n",
       "    </tr>\n",
       "  </thead>\n",
       "  <tbody>\n",
       "    <tr>\n",
       "      <td>0</td>\n",
       "      <td>1</td>\n",
       "      <td>1</td>\n",
       "      <td>77183.60</td>\n",
       "    </tr>\n",
       "    <tr>\n",
       "      <td>1</td>\n",
       "      <td>162</td>\n",
       "      <td>7</td>\n",
       "      <td>3653.45</td>\n",
       "    </tr>\n",
       "    <tr>\n",
       "      <td>2</td>\n",
       "      <td>27</td>\n",
       "      <td>4</td>\n",
       "      <td>1437.24</td>\n",
       "    </tr>\n",
       "    <tr>\n",
       "      <td>3</td>\n",
       "      <td>68</td>\n",
       "      <td>1</td>\n",
       "      <td>1372.42</td>\n",
       "    </tr>\n",
       "    <tr>\n",
       "      <td>4</td>\n",
       "      <td>13</td>\n",
       "      <td>1</td>\n",
       "      <td>258.00</td>\n",
       "    </tr>\n",
       "    <tr>\n",
       "      <td>...</td>\n",
       "      <td>...</td>\n",
       "      <td>...</td>\n",
       "      <td>...</td>\n",
       "    </tr>\n",
       "    <tr>\n",
       "      <td>4310</td>\n",
       "      <td>10</td>\n",
       "      <td>1</td>\n",
       "      <td>180.60</td>\n",
       "    </tr>\n",
       "    <tr>\n",
       "      <td>4311</td>\n",
       "      <td>7</td>\n",
       "      <td>1</td>\n",
       "      <td>80.82</td>\n",
       "    </tr>\n",
       "    <tr>\n",
       "      <td>4312</td>\n",
       "      <td>12</td>\n",
       "      <td>2</td>\n",
       "      <td>178.05</td>\n",
       "    </tr>\n",
       "    <tr>\n",
       "      <td>4313</td>\n",
       "      <td>719</td>\n",
       "      <td>16</td>\n",
       "      <td>1964.26</td>\n",
       "    </tr>\n",
       "    <tr>\n",
       "      <td>4314</td>\n",
       "      <td>58</td>\n",
       "      <td>3</td>\n",
       "      <td>1220.06</td>\n",
       "    </tr>\n",
       "  </tbody>\n",
       "</table>\n",
       "<p>4315 rows × 3 columns</p>\n",
       "</div>"
      ],
      "text/plain": [
       "      Recency  Frequency  Monetary_Value\n",
       "0           1          1        77183.60\n",
       "1         162          7         3653.45\n",
       "2          27          4         1437.24\n",
       "3          68          1         1372.42\n",
       "4          13          1          258.00\n",
       "...       ...        ...             ...\n",
       "4310       10          1          180.60\n",
       "4311        7          1           80.82\n",
       "4312       12          2          178.05\n",
       "4313      719         16         1964.26\n",
       "4314       58          3         1220.06\n",
       "\n",
       "[4315 rows x 3 columns]"
      ]
     },
     "execution_count": 200,
     "metadata": {},
     "output_type": "execute_result"
    }
   ],
   "source": [
    "#join dataframe RFM\n",
    "Customer_RFM = pd.concat([Recency,Frequency,Monetary_Value], axis=1)\n",
    "RFM = Customer_RFM[['InvoiceYearMonth','InvoiceNo','TotalPrice']]\n",
    "RFM.columns=['Recency','Frequency','Monetary_Value']\n",
    "RFM"
   ]
  },
  {
   "cell_type": "markdown",
   "metadata": {},
   "source": [
    "### K-Means Algorithm"
   ]
  },
  {
   "cell_type": "code",
   "execution_count": 201,
   "metadata": {},
   "outputs": [],
   "source": [
    "kmeans = KMeans(n_clusters=3, random_state=0).fit(RFM)"
   ]
  },
  {
   "cell_type": "code",
   "execution_count": 202,
   "metadata": {},
   "outputs": [
    {
     "name": "stdout",
     "output_type": "stream",
     "text": [
      "For n_clusters = 3 The average silhouette_score is : 0.9674694663575012\n"
     ]
    }
   ],
   "source": [
    "cluster_labels = kmeans.fit_predict(RFM)\n",
    "\n",
    "# The silhouette_score gives the average value for all the samples.\n",
    "# This gives a perspective into the density and separation of the formed\n",
    "# clusters\n",
    "silhouette_avg = silhouette_score(RFM, cluster_labels)\n",
    "print(\"For n_clusters =\", \"3\",\"The average silhouette_score is :\", silhouette_avg)"
   ]
  },
  {
   "cell_type": "code",
   "execution_count": 208,
   "metadata": {},
   "outputs": [
    {
     "data": {
      "text/plain": [
       "array([1, 0, 0, ..., 0, 0, 0])"
      ]
     },
     "execution_count": 208,
     "metadata": {},
     "output_type": "execute_result"
    }
   ],
   "source": [
    "cluster_labels"
   ]
  },
  {
   "cell_type": "code",
   "execution_count": 204,
   "metadata": {},
   "outputs": [
    {
     "data": {
      "image/png": "[encoded data removed]",
      "text/plain": [
       "<Figure size 1440x720 with 1 Axes>"
      ]
     },
     "metadata": {
      "needs_background": "light"
     },
     "output_type": "display_data"
    }
   ],
   "source": [
    "import matplotlib.pyplot as plt\n",
    "from mpl_toolkits.mplot3d import Axes3D # <--- This is important for 3d plotting \n",
    "import numpy as np\n",
    "\n",
    "x = np.array(RFM['Recency'])\n",
    "y = np.array(RFM['Frequency'])\n",
    "z = np.array(RFM['Monetary_Value'])\n",
    "\n",
    "fig = plt.figure(figsize=(20,10))\n",
    "ax = fig.add_subplot(111, projection='3d')\n",
    "ax.scatter(x,y,z, \n",
    "            c=cluster_labels, cmap='viridis',\n",
    "            edgecolor='k', s=40, alpha = 0.5)\n",
    "\n",
    "ax.set_title(\"RFM for Customer Segmentation\")\n",
    "ax.set_xlabel(\"Recency\")\n",
    "ax.set_ylabel(\"Frequency\")\n",
    "ax.set_zlabel(\"Monetary_Value\")\n",
    "ax.dist = 10\n",
    "\n",
    "plt.autoscale(enable=True, axis='x', tight=True)    \n",
    "\n",
    "plt.show()"
   ]
  },
  {
   "cell_type": "code",
   "execution_count": 223,
   "metadata": {},
   "outputs": [],
   "source": [
    "# Combine Customer and Kmeans Label\n",
    "Cluster_Kmeans = pd.DataFrame(cluster_labels)\n",
    "# Cluster_Kmeans\n",
    "Customer = pd.concat([Customer_RFM.iloc[:,0],RFM,Cluster_Kmeans], axis=1)\n",
    "Customer\n",
    "# Customer.to_csv('customer_RFM.csv')"
   ]
  },
  {
   "cell_type": "code",
   "execution_count": 224,
   "metadata": {},
   "outputs": [
    {
     "data": {
      "text/plain": [
       "array([[7.77166822e+01, 3.98275862e+00, 1.38465334e+03],\n",
       "       [1.41142105e+03, 4.98947368e+01, 6.33720111e+04],\n",
       "       [6.85500000e+02, 4.50000000e+01, 2.17087302e+05]])"
      ]
     },
     "execution_count": 224,
     "metadata": {},
     "output_type": "execute_result"
    }
   ],
   "source": [
    "kmeans.cluster_centers_"
   ]
  },
  {
   "cell_type": "code",
   "execution_count": null,
   "metadata": {},
   "outputs": [],
   "source": []
  }
 ],
 "metadata": {
  "kernelspec": {
   "display_name": "Python 3",
   "language": "python",
   "name": "python3"
  },
  "language_info": {
   "codemirror_mode": {
    "name": "ipython",
    "version": 3
   },
   "file_extension": ".py",
   "mimetype": "text/x-python",
   "name": "python",
   "nbconvert_exporter": "python",
   "pygments_lexer": "ipython3",
   "version": "3.7.4"
  }
 },
 "nbformat": 4,
 "nbformat_minor": 2
}
